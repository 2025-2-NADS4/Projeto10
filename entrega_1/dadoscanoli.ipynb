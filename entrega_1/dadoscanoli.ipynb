{
  "nbformat": 4,
  "nbformat_minor": 0,
  "metadata": {
    "colab": {
      "provenance": []
    },
    "kernelspec": {
      "name": "python3",
      "display_name": "Python 3"
    },
    "language_info": {
      "name": "python"
    }
  },
  "cells": [
    {
      "cell_type": "code",
      "source": [
        "import pandas as pd\n",
        "import matplotlib.pyplot as plt\n",
        "import seaborn as sns"
      ],
      "metadata": {
        "id": "5c7YKXjvoPq0"
      },
      "execution_count": 8,
      "outputs": []
    },
    {
      "cell_type": "code",
      "source": [
        "plt.style.use(\"seaborn-v0_8\")\n",
        "plt.rcParams[\"figure.figsize\"] = (12,6)"
      ],
      "metadata": {
        "id": "JtgmY1qaoQZg"
      },
      "execution_count": 9,
      "outputs": []
    },
    {
      "cell_type": "code",
      "source": [
        "orders = pd.read_csv(\"/Order_semicolon.csv\", delimiter=\";\")\n",
        "customers = pd.read_csv(\"/Customer_semicolon.csv\", delimiter=\";\")\n",
        "campaigns = pd.read_csv(\"/Campaign_semicolon.csv\", delimiter=\";\")\n",
        "campaign_queue = pd.read_csv(\"/CampaignQueue_semicolon.csv\", delimiter=\";\")"
      ],
      "metadata": {
        "id": "ur61KZFHrMZY"
      },
      "execution_count": 10,
      "outputs": []
    },
    {
      "cell_type": "code",
      "source": [
        "orders[\"totalAmount\"] = pd.to_numeric(orders[\"totalAmount\"], errors=\"coerce\")\n",
        "orders[\"takeOutTimeInSeconds\"] = pd.to_numeric(orders[\"takeOutTimeInSeconds\"], errors=\"coerce\")\n",
        "orders[\"preparationTime\"] = pd.to_numeric(orders[\"preparationTime\"], errors=\"coerce\")\n",
        "orders[\"tempo_retirada_min\"] = orders[\"takeOutTimeInSeconds\"].fillna(orders[\"preparationTime\"]) / 60\n",
        "orders[\"createdAt\"] = pd.to_datetime(orders[\"createdAt\"], errors=\"coerce\", dayfirst=True)\n"
      ],
      "metadata": {
        "id": "zJOw2s5PrcaP"
      },
      "execution_count": 11,
      "outputs": []
    },
    {
      "cell_type": "code",
      "source": [
        "ranking_empresas = (\n",
        "    orders.groupby(\"companyId\")\n",
        "    .agg(\n",
        "        pedidos=(\"id\", \"count\"),\n",
        "        mediana_tempo=(\"tempo_retirada_min\", \"median\"),\n",
        "        p90_tempo=(\"tempo_retirada_min\", lambda x: x.quantile(0.9)),\n",
        "        ticket_medio=(\"totalAmount\", \"mean\")\n",
        "    )\n",
        "    .reset_index()\n",
        "    .sort_values(\"mediana_tempo\")\n",
        ")\n"
      ],
      "metadata": {
        "id": "emEJ-o3etIHT"
      },
      "execution_count": 12,
      "outputs": []
    },
    {
      "cell_type": "code",
      "source": [
        "ranking_plataformas = (\n",
        "    orders.groupby(\"engineName\")\n",
        "    .agg(\n",
        "        pedidos=(\"id\", \"count\"),\n",
        "        ticket_medio=(\"totalAmount\", \"mean\"),\n",
        "        mediana_tempo=(\"tempo_retirada_min\", \"median\")\n",
        "    )\n",
        "    .reset_index()\n",
        "    .sort_values(\"pedidos\",ascending=False)\n",
        ")\n"
      ],
      "metadata": {
        "id": "0tojS00eQKkB"
      },
      "execution_count": 13,
      "outputs": []
    },
    {
      "cell_type": "code",
      "source": [
        "pedidos_dia = (\n",
        "    orders.groupby(orders[\"createdAt\"].dt.date)\n",
        "    .agg(\n",
        "        pedidos=(\"id\", \"count\"),\n",
        "        receita_total=(\"totalAmount\", \"sum\"),\n",
        "        ticket_medio=(\"totalAmount\", \"mean\")\n",
        "    )\n",
        "    .reset_index()\n",
        ")\n"
      ],
      "metadata": {
        "id": "XRQmCP1BUPBc"
      },
      "execution_count": 14,
      "outputs": []
    },
    {
      "cell_type": "code",
      "source": [],
      "metadata": {
        "id": "S3Sgm4ZCUTMM"
      },
      "execution_count": 14,
      "outputs": []
    }
  ]
}