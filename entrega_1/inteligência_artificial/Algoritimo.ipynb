{
  "nbformat": 4,
  "nbformat_minor": 0,
  "metadata": {
    "colab": {
      "provenance": []
    },
    "kernelspec": {
      "name": "python3",
      "display_name": "Python 3"
    },
    "language_info": {
      "name": "python"
    }
  },
  "cells": [
    {
      "cell_type": "code",
      "execution_count": null,
      "metadata": {
        "id": "i0AxKEpvvMIk"
      },
      "outputs": [],
      "source": [
        "import pandas as pd\n",
        "import matplotlib.pyplot as plt\n",
        "import seaborn as sns"
      ]
    },
    {
      "cell_type": "code",
      "source": [
        "plt.style.use(\"seaborn-v0_8\")\n",
        "plt.rcParams[\"figure.figsize\"] = (12,6)"
      ],
      "metadata": {
        "id": "amuPzUAewaav"
      },
      "execution_count": null,
      "outputs": []
    },
    {
      "cell_type": "code",
      "source": [
        "orders = pd.read_csv(\"Order_semicolon.csv\", delimiter=\";\")\n",
        "customers = pd.read_csv(\"Customer_semicolon.csv\", delimiter=\";\")\n",
        "campaigns = pd.read_csv(\"Campaign_semicolon.csv\", delimiter=\";\")\n",
        "campaign_queue = pd.read_csv(\"CampaignQueue_semicolon.csv\", delimiter=\";\")"
      ],
      "metadata": {
        "id": "MHyOuJqhwpHe"
      },
      "execution_count": null,
      "outputs": []
    },
    {
      "cell_type": "code",
      "source": [
        "orders[\"totalAmount\"] = pd.to_numeric(orders[\"totalAmount\"], errors=\"coerce\")\n",
        "orders[\"takeOutTimeInSeconds\"] = pd.to_numeric(orders[\"takeOutTimeInSeconds\"], errors=\"coerce\")\n",
        "orders[\"preparationTime\"] = pd.to_numeric(orders[\"preparationTime\"], errors=\"coerce\")"
      ],
      "metadata": {
        "id": "s60nayYbwtG4"
      },
      "execution_count": null,
      "outputs": []
    },
    {
      "cell_type": "code",
      "source": [
        "orders[\"tempo_retirada_min\"] = orders[\"takeOutTimeInSeconds\"].fillna(orders[\"preparationTime\"]) / 60"
      ],
      "metadata": {
        "id": "e1S95bALw0lq"
      },
      "execution_count": null,
      "outputs": []
    },
    {
      "cell_type": "code",
      "source": [
        "orders[\"createdAt\"] = pd.to_datetime(orders[\"createdAt\"], errors=\"coerce\", dayfirst=True)"
      ],
      "metadata": {
        "id": "ztFvQSgzw527"
      },
      "execution_count": null,
      "outputs": []
    },
    {
      "cell_type": "code",
      "source": [
        "ranking_empresas = (\n",
        "    orders.groupby(\"companyId\")\n",
        "    .agg(\n",
        "        pedidos=(\"id\", \"count\"),\n",
        "        mediana_tempo=(\"tempo_retirada_min\", \"median\"),\n",
        "        p90_tempo=(\"tempo_retirada_min\", lambda x: x.quantile(0.9)),\n",
        "        ticket_medio=(\"totalAmount\", \"mean\")\n",
        "    )\n",
        "    .reset_index()\n",
        "    .sort_values(\"mediana_tempo\")\n",
        ")"
      ],
      "metadata": {
        "id": "bV-6ReUXw_hg"
      },
      "execution_count": null,
      "outputs": []
    },
    {
      "cell_type": "code",
      "source": [
        "ranking_plataformas = (\n",
        "    orders.groupby(\"engineName\")\n",
        "    .agg(\n",
        "        pedidos=(\"id\", \"count\"),\n",
        "        ticket_medio=(\"totalAmount\", \"mean\"),\n",
        "        mediana_tempo=(\"tempo_retirada_min\", \"median\")\n",
        "    )\n",
        "    .reset_index()\n",
        "    .sort_values(\"pedidos\", ascending=False)\n",
        ")"
      ],
      "metadata": {
        "id": "E_MTExCtxGVD"
      },
      "execution_count": null,
      "outputs": []
    },
    {
      "cell_type": "code",
      "source": [
        "pedidos_dia = (\n",
        "    orders.groupby(orders[\"createdAt\"].dt.date)\n",
        "    .agg(\n",
        "        pedidos=(\"id\", \"count\"),\n",
        "        receita_total=(\"totalAmount\", \"sum\"),\n",
        "        ticket_medio=(\"totalAmount\", \"mean\")\n",
        "    )\n",
        "    .reset_index()\n",
        ")"
      ],
      "metadata": {
        "id": "Hrjdsi2cxQBc"
      },
      "execution_count": null,
      "outputs": []
    },
    {
      "cell_type": "code",
      "source": [
        "orders[\"hour\"] = orders[\"createdAt\"].dt.hour\n",
        "vendas_hora = (\n",
        "    orders.groupby(\"hour\")[\"totalAmount\"]\n",
        "    .sum()\n",
        "    .reset_index()\n",
        ")"
      ],
      "metadata": {
        "id": "9XtaRW-NxTYr"
      },
      "execution_count": null,
      "outputs": []
    },
    {
      "cell_type": "code",
      "source": [
        "melhor_horario = vendas_hora.loc[vendas_hora[\"totalAmount\"].idxmax()]"
      ],
      "metadata": {
        "id": "SiWh-YkOxXMo"
      },
      "execution_count": null,
      "outputs": []
    },
    {
      "cell_type": "code",
      "source": [
        "print(\"=== Busca Gulosa (Horário) ===\")\n",
        "print(f\"Horário mais lucrativo: {int(melhor_horario['hour'])}h\")\n",
        "print(f\"Total de vendas: R$ {melhor_horario['totalAmount']:.2f}\")"
      ],
      "metadata": {
        "id": "sY6dYY5_xd5b"
      },
      "execution_count": null,
      "outputs": []
    },
    {
      "cell_type": "code",
      "source": [
        "sns.barplot(data=vendas_hora, x=\"hour\", y=\"totalAmount\", palette=\"Blues_d\")\n",
        "plt.axvline(x=melhor_horario[\"hour\"], color=\"red\", linestyle=\"--\",\n",
        "            label=f\"Melhor hora (gulosa): {int(melhor_horario['hour'])}h\")"
      ],
      "metadata": {
        "id": "m-RkT0KZxioU"
      },
      "execution_count": null,
      "outputs": []
    },
    {
      "cell_type": "code",
      "source": [
        "plt.legend()\n",
        "plt.title(\"Vendas por Hora - Busca Gulosa escolhe o pico imediato\")\n",
        "plt.xlabel(\"Hora do dia\")\n",
        "plt.ylabel(\"Total de vendas (R$)\")\n",
        "plt.show()"
      ],
      "metadata": {
        "id": "HWiOiBooxle7"
      },
      "execution_count": null,
      "outputs": []
    },
    {
      "cell_type": "code",
      "source": [
        "orders[\"weekday\"] = orders[\"createdAt\"].dt.day_name(locale=\"pt_BR\")\n",
        "vendas_semana = (\n",
        "    orders.groupby(\"weekday\")[\"totalAmount\"]\n",
        "    .sum()\n",
        "    .reset_index()\n",
        ")"
      ],
      "metadata": {
        "id": "uOVoNTyrxprz"
      },
      "execution_count": null,
      "outputs": []
    },
    {
      "cell_type": "code",
      "source": [
        "melhor_dia = vendas_semana.loc[vendas_semana[\"totalAmount\"].idxmax()]"
      ],
      "metadata": {
        "id": "Tj7qQp3SxsKj"
      },
      "execution_count": null,
      "outputs": []
    },
    {
      "cell_type": "code",
      "source": [
        "print(\"\\n=== Busca Gulosa (Dia da Semana) ===\")\n",
        "print(f\"Dia mais lucrativo: {melhor_dia['weekday']}\")\n",
        "print(f\"Total de vendas: R$ {melhor_dia['totalAmount']:.2f}\")"
      ],
      "metadata": {
        "id": "5z8keScgxt0c"
      },
      "execution_count": null,
      "outputs": []
    }
  ]
}